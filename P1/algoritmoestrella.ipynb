{
 "cells": [
  {
   "cell_type": "code",
   "execution_count": null,
   "metadata": {},
   "outputs": [],
   "source": [
    "import numpy as np\n",
    "import matplotlib.pyplot as plot\n",
    "import heapq\n",
    "\n",
    "\n",
    "Movimientos = [(-1, -1), (-1, 0), (-1, +1),\n",
    "               (0,-1), (+1, 0),\n",
    "               (-1, +1), (0, +1), (+1, +1)]\n",
    "\n",
    "\n",
    "class Nodo:\n",
    "    def inicializar(self, position, parent= None, g=0, h=0, risk=0):\n",
    "        self.position = position,\n",
    "        self.parent = parent,\n",
    "        self.g = g,\n",
    "        self.h = h,\n",
    "        self.risk = risk,\n",
    "        self.f = g + h + risk\n",
    "    \n",
    "    def menorque(self, other):\n",
    "        return self.f < other.f\n"
   ]
  }
 ],
 "metadata": {
  "language_info": {
   "name": "python"
  }
 },
 "nbformat": 4,
 "nbformat_minor": 2
}
